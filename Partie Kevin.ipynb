{
 "cells": [
  {
   "cell_type": "code",
   "execution_count": null,
   "metadata": {
    "vscode": {
     "languageId": "plaintext"
    }
   },
   "outputs": [],
   "source": [
    "import random   \n",
    "\n",
    "liste_de_mots= []\n",
    "def lettres_positions(mot):\n",
    "    dico = {}\n",
    "    for index, lettre in enumerate(mot):\n",
    "        if lettre in dico:\n",
    "            dico[lettre].append(index)  # Ajouter position si lettre déjà dans dico\n",
    "        else:\n",
    "            dico[lettre] = [index]  # Créer une nouvelle liste avec la position\"\n",
    "    return dico\n",
    "    \n",
    "def pendu():\n",
    "    fautes = 0\n",
    "    lettres_pas_bon = []\n",
    "    mot_inconnu = liste_de_mots[random.randint(0,(len(liste_de_mots)))]\n",
    "    mot_à_remplir= ['*' for x in range (len(mot_inconnu))]\n",
    "    dico_lettres_positions = lettres_positions(mot_inconnu)"
   ]
  }
 ],
 "metadata": {
  "language_info": {
   "name": "python"
  }
 },
 "nbformat": 4,
 "nbformat_minor": 2
}
