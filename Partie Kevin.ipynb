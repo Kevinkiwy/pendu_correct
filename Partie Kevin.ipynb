{
 "cells": [
  {
   "cell_type": "code",
   "execution_count": null,
   "metadata": {},
   "outputs": [],
   "source": [
    "import random   \n",
    "\n",
    "liste_de_mots= []\n",
    "def lettres_positions(mot):\n",
    "    dico = {}\n",
    "    for index, lettre in enumerate(mot):\n",
    "        if lettre in dico:\n",
    "            dico[lettre].append(index)  # Ajouter position si lettre déjà dans dico\n",
    "        else:\n",
    "            dico[lettre] = [index]  # Créer une nouvelle liste avec la position\"\n",
    "    return dico\n",
    "    \n",
    "def pendu():\n",
    "    fautes = 0\n",
    "    lettres_pas_bon = []\n",
    "    mot_inconnu = liste_de_mots[random.randint(0,(len(liste_de_mots)))]\n",
    "    mot_à_remplir= ['*' for x in range (len(mot_inconnu))]\n",
    "    dico_lettres_positions = lettres_positions(mot_inconnu)\n",
    "    \n",
    "\n",
    "    "
   ]
  },
  {
   "cell_type": "code",
   "execution_count": 2,
   "metadata": {},
   "outputs": [],
   "source": [
    "import tkinter as tk\n",
    "root = tk.Tk()\n",
    "\n",
    "#Je peux pas tester sans ça, on retirera après :)\n",
    "\n",
    "\n",
    "CANVAS_WIDTH, CANVAS_HEIGHT = 600, 500 \n",
    "canvas = tk.Canvas(root, width=CANVAS_WIDTH, height=CANVAS_HEIGHT) \n",
    "canvas.pack() # Structure du pendu # Lignes pour la potence \n",
    "a0 = 100 \n",
    "b0 = CANVAS_HEIGHT - 250 \n",
    "canvas.create_line(a0, b0, a0 + 100, b0) # Ligne horizontale, \n",
    "canvas.create_line(a0+20, b0, a0 + 20 , b0 - 150) # Ligne verticale, \n",
    "canvas.create_line(a0+20, b0 - 150, a0+70, b0-150) # Ligne horizontale2,\n",
    "canvas.create_line(a0+20, b0 - 120, a0+45, b0-150) # Ligne diagonale angle\n",
    "\n",
    "#erreurs: \n",
    "# #erreur 1: corde \n",
    "canvas.create_line(a0+70, b0-150, a0 + 70 , b0-125) # Ligne verticale\n",
    "\n",
    "#erreur 2: Cercle pour la tête \n",
    "x0 = 0 \n",
    "x1 = CANVAS_WIDTH - 260 \n",
    "y = CANVAS_HEIGHT - 365 \n",
    "canvas.create_oval((x0 + x1) / 2 - 10, y + 10, (x0 + x1) / 2 + 10, y - 10)\n",
    "\n",
    "#erreur 3: torse\n",
    "canvas.create_line(a0+70, b0-105, a0 + 70 , b0-70)  # torse\n",
    "\n",
    "# Erreur 4: bras gauche\n",
    "canvas.create_line(a0+70, b0 - 95, a0+50, b0-115)  # bras gauche\n",
    "\n",
    "# Erreur 5: bras droit\n",
    "canvas.create_line(a0+70, b0 - 95, a0+90, b0-115)  # bras droit\n",
    "\n",
    "# Erreur 6: jambe gauche\n",
    "canvas.create_line(a0+70, b0 - 70, a0+50, b0-50)  # jambe gauche\n",
    "\n",
    "# Erreur 7: jambe droite\n",
    "canvas.create_line(a0+70, b0 - 70, a0+90, b0-50)  # jambe droite\n",
    "\n",
    "canvas.grid()\n",
    "root.mainloop()\n"
   ]
  },
  {
   "cell_type": "code",
   "execution_count": null,
   "metadata": {},
   "outputs": [],
   "source": [
    "\n",
    "\n",
    "boutonrestartfin = tk.Button(root,text=\"Et pourquoi pas rejouer?\") #boutton en fin de partie A PLACER\n",
    "\n",
    "boutonnouveaumot = tk.Button(root,text=\"Le mot est dur ? Change le ?\")#  A PLACER Mettre une commande avec un input de preferance sur la fenetre voir cours jpense\"\n",
    "\n",
    "boutonajoutermot=tk.Button(root,text=\"Participe et ajoute ton mot à notre jeu ! (N'utilise pas d'accent)\")\n",
    "\n",
    "boutonfermer = tk.Button(root,text=\"fermer le jeu\")\n",
    "\n",
    "boutonscores = tk.Button(root,text=\"afficher tableau des scores\")\n",
    "\n",
    "boutonregles = tk.Button(root,text=\"boutons regles\")\n"
   ]
  }
 ],
 "metadata": {
  "kernelspec": {
   "display_name": "Python 3",
   "language": "python",
   "name": "python3"
  },
  "language_info": {
   "codemirror_mode": {
    "name": "ipython",
    "version": 3
   },
   "file_extension": ".py",
   "mimetype": "text/x-python",
   "name": "python",
   "nbconvert_exporter": "python",
   "pygments_lexer": "ipython3",
   "version": "3.11.9"
  }
 },
 "nbformat": 4,
 "nbformat_minor": 2
}
