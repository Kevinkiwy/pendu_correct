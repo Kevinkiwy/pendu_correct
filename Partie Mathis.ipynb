{
 "cells": [
  {
   "cell_type": "code",
   "execution_count": null,
   "metadata": {},
   "outputs": [
    {
     "name": "stdout",
     "output_type": "stream",
     "text": [
      "njfhn\n"
     ]
    }
   ],
   "source": [
    "#PARTIE DE MATHIS\n",
    "def fenetre_ajt():\n",
    "       ajtfen=tk.Toplevel()\n",
    "       ajtfen.title(\"Ajouter un mit a notre jeu\")\n",
    "       ajtfen.geometry(\"300x300\")\n",
    "       ajtfen.config(bg=\"skyblue\")\n",
    "       label1=tk.Label(text=\"Ajoute ton mot à notre jeu \")\n",
    "       ajtfen.grid_columnconfigure(0, weight=1)\n",
    "       ajtfen.grid_rowconfigure(0, weight=1) \n",
    "       ajtfen.grid_rowconfigure(5, weight=1)  \n",
    "       label1.grid(column=0,row=0)\n",
    "\n",
    "       saisir = tk.Entry(ajtfen)\n",
    "       saisis.grid(column=0,row=1,pady=15)\n",
    "\n",
    "       boutonconf=tk.Button(text=\"confirmer\",font=(\"Comic Sans MS\",20),command=sauvegarder)\n",
    "       boutonconf.grid(column=0,row=2,pady=15)\n",
    "    \n",
    "\n",
    "def sauvegarder(entry,fenetre)"
   ]
  }
 ],
 "metadata": {
  "kernelspec": {
   "display_name": "base",
   "language": "python",
   "name": "python3"
  },
  "language_info": {
   "codemirror_mode": {
    "name": "ipython",
    "version": 3
   },
   "file_extension": ".py",
   "mimetype": "text/x-python",
   "name": "python",
   "nbconvert_exporter": "python",
   "pygments_lexer": "ipython3",
   "version": "3.12.3"
  }
 },
 "nbformat": 4,
 "nbformat_minor": 2
}
