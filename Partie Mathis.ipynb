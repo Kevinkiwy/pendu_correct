{
 "cells": [
  {
   "cell_type": "code",
   "execution_count": 1,
   "metadata": {},
   "outputs": [
    {
     "name": "stdout",
     "output_type": "stream",
     "text": [
      "njfhn\n"
     ]
    }
   ],
   "source": [
    "#PARTIE DE MATHIS\n",
    "import tkinter as tk\n",
    "root = tk.Tk()\n",
    "\n",
    "boutonrestartfin = tk.Button(root,text=\"Et pourquoi pas rejouer?\") #boutton en fin de partie A PLACER\n",
    "\n",
    "boutonnouveaumot = tk.Button(root,text=\"Le mot est dur ? Change le ?\")#  A PLACER Mettre une commande avec un input de preferance sur la fenetre voir cours jpense\"\n",
    "\n",
    "boutonajoutermot=tk.Button(root,text=\"Participe et ajoute ton mot à notre jeu ! (N'utilise pas d'accent)\")\n",
    "\n",
    "print(\"njfhn\")# mettre une commande qui ouvre un input sur la fenetre et en commande le relie aux dico\""
   ]
  }
 ],
 "metadata": {
  "kernelspec": {
   "display_name": "base",
   "language": "python",
   "name": "python3"
  },
  "language_info": {
   "codemirror_mode": {
    "name": "ipython",
    "version": 3
   },
   "file_extension": ".py",
   "mimetype": "text/x-python",
   "name": "python",
   "nbconvert_exporter": "python",
   "pygments_lexer": "ipython3",
   "version": "3.12.3"
  }
 },
 "nbformat": 4,
 "nbformat_minor": 2
}
