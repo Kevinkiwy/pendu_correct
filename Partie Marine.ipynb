{
 "cells": [
  {
   "cell_type": "code",
   "execution_count": null,
   "metadata": {},
   "outputs": [],
   "source": [
    "import tkinter as tk\n",
    "root = tk.Tk()  #Je peux pas tester sans ça, on retirera après :)\n",
    "    \n",
    "CANVAS_WIDTH, CANVAS_HEIGHT = 600, 500\n",
    "canvas = tk.Canvas(root, width=CANVAS_WIDTH, height=CANVAS_HEIGHT)\n",
    "canvas.pack()  \n",
    "\n",
    "# Structure du pendu\n",
    "\n",
    "# Lignes pour la potence\n",
    "a0 = 100\n",
    "b0 = CANVAS_HEIGHT - 250\n",
    "\n",
    "canvas.create_line(a0, b0, a0 + 100, b0)  # Ligne horizontale,\n",
    "canvas.create_line(a0+20, b0, a0 + 20 , b0 - 150)  # Ligne verticale,\n",
    "canvas.create_line(a0+20, b0 - 150, a0+70, b0-150)  # Ligne horizontale2,\n",
    "canvas.create_line(a0+20, b0 - 120, a0+45, b0-150)  # Ligne diagonale angle \n",
    "\n",
    "\n",
    "\n",
    "\n",
    "#erreurs:\n",
    "\n",
    "#erreur 1: corde \n",
    "canvas.create_line(a0+70, b0-150, a0 + 70 , b0-125)  # Ligne verticale\n",
    "    \n",
    "    \n",
    "#erreur 2: Cercle pour la tête\n",
    "x0 = 0\n",
    "x1 = CANVAS_WIDTH - 260\n",
    "y = CANVAS_HEIGHT - 365\n",
    "    \n",
    "canvas.create_oval((x0 + x1) / 2 - 10, y + 10, (x0 + x1) / 2 + 10, y - 10)\n",
    "    \n",
    "\n",
    "#erreur 3: torse\n",
    "canvas.create_line(a0+70, b0-105, a0 + 70 , b0-40)  # torse \n",
    "    \n",
    "    \n",
    "#erreur 4: bras gauche\n",
    "canvas.create_line(a0+70, b0 - 80, a0+50, b0-101)  # bras gauche \n",
    "    \n",
    "    \n",
    "#erreur 5: Bras droit\n",
    "canvas.create_line(a0+70, b0 - 80, a0+90, b0-102)  # bras droit\\n\",\n",
    "\n",
    "#erreur 6: jambe gauche \n",
    "canvas.create_line(a0+70, b0 - 52, a0+10, b0)  # jambe gauche\n",
    "\n",
    "    \n",
    "canvas.grid()\n",
    "root.mainloop()"
   ]
  },
  {
   "cell_type": "code",
   "execution_count": null,
   "metadata": {},
   "outputs": [],
   "source": []
  }
 ],
 "metadata": {
  "kernelspec": {
   "display_name": "Python 3",
   "language": "python",
   "name": "python3"
  },
  "language_info": {
   "codemirror_mode": {
    "name": "ipython",
    "version": 3
   },
   "file_extension": ".py",
   "mimetype": "text/x-python",
   "name": "python",
   "nbconvert_exporter": "python",
   "pygments_lexer": "ipython3",
   "version": "3.11.9"
  }
 },
 "nbformat": 4,
 "nbformat_minor": 2
}
