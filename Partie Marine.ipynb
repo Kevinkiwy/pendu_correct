{
 "cells": [
  {
   "cell_type": "code",
   "execution_count": null,
   "metadata": {},
   "outputs": [],
   "source": [
    "import tkinter as tk\n",
    "fenetre_jeu = tk.Tk()\n",
    "fenetre_jeu.title(\"Jeu du Pendu\")\n",
    "\n",
    "\n",
    "\n",
    "\n",
    "CANVAS_WIDTH, CANVAS_HEIGHT = 600, 500 \n",
    "canvas = tk.Canvas(fenetre_jeu, width=CANVAS_WIDTH, height=CANVAS_HEIGHT) \n",
    "\n",
    "canvas.grid(row=1, column=2, rowspan=2)\n",
    "    \n",
    "# Structure du pendu \n",
    "# # Lignes pour la potence \n",
    "a0 = 100 \n",
    "b0 = CANVAS_HEIGHT - 250 \n",
    "canvas.create_line(a0, b0, a0 + 100, b0) # Ligne horizontale, \n",
    "canvas.create_line(a0+20, b0, a0 + 20 , b0 - 150) # Ligne verticale, \n",
    "canvas.create_line(a0+20, b0 - 150, a0+70, b0-150) # Ligne horizontale2,\n",
    "canvas.create_line(a0+20, b0 - 120, a0+45, b0-150) # Ligne diagonale angle\n",
    "\n",
    "#erreurs: \n",
    "# #erreur 1: corde \n",
    "canvas.create_line(a0+70, b0-150, a0 + 70 , b0-125) # Ligne verticale\n",
    "\n",
    "#erreur 2: Cercle pour la tête \n",
    "x0 = 0 \n",
    "x1 = CANVAS_WIDTH - 260 \n",
    "y = CANVAS_HEIGHT - 365 \n",
    "canvas.create_oval((x0 + x1) / 2 - 10, y + 10, (x0 + x1) / 2 + 10, y - 10)\n",
    "\n",
    "#erreur 3: torse\n",
    "canvas.create_line(a0+70, b0-105, a0 + 70 , b0-70)  # torse\n",
    "\n",
    "# Erreur 4: bras gauche\n",
    "canvas.create_line(a0+70, b0 - 95, a0+50, b0-115)  # bras gauche\n",
    "\n",
    "# Erreur 5: bras droit\n",
    "canvas.create_line(a0+70, b0 - 95, a0+90, b0-115)  # bras droit\n",
    "\n",
    "# Erreur 6: jambe gauche\n",
    "canvas.create_line(a0+70, b0 - 70, a0+50, b0-50)  # jambe gauche\n",
    "\n",
    "# Erreur 7: jambe droite\n",
    "canvas.create_line(a0+70, b0 - 70, a0+90, b0-50)  # jambe droite\n",
    "\n",
    "    \n",
    "\n",
    "# Configuration pour centrer le canvas à droite\n",
    "fenetre_jeu.grid_rowconfigure((0, 3), weight=1)  # Espaces en haut et en bas\n",
    "fenetre_jeu.grid_columnconfigure((0, 1), weight=1)  # Espaces à gauch\n",
    "\n",
    "\n",
    "fenetre_jeu.mainloop()       \n",
    "        \n",
    "\n"
   ]
  },
  {
   "cell_type": "code",
   "execution_count": null,
   "metadata": {},
   "outputs": [],
   "source": []
  }
 ],
 "metadata": {
  "kernelspec": {
   "display_name": "base",
   "language": "python",
   "name": "python3"
  },
  "language_info": {
   "codemirror_mode": {
    "name": "ipython",
    "version": 3
   },
   "file_extension": ".py",
   "mimetype": "text/x-python",
   "name": "python",
   "nbconvert_exporter": "python",
   "pygments_lexer": "ipython3",
   "version": "3.12.3"
  }
 },
 "nbformat": 4,
 "nbformat_minor": 2
}
